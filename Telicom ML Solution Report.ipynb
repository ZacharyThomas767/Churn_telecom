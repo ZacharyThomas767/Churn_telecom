{
 "cells": [
  {
   "cell_type": "markdown",
   "metadata": {},
   "source": [
    "# Telicom ML Solution Report"
   ]
  },
  {
   "cell_type": "markdown",
   "metadata": {},
   "source": [
    "\n",
    "The goal of this project was to make a Machine Learning model that will prodict churn(costomers leaving) for the company. Telicom Will then use this model to prodict the costomers that will likly churn and offer them promotions to help retain those clients. To do this we had a simple game plan.\n",
    "Ill start with my initial goal then right after it i will explain if i was succesful. If not I will explain what I did to fix the problem.\n",
    "\n",
    "**1. Data Preparation Finalize data cleaning:**\n",
    "\n",
    "ensure correct data types, handle missing values (e.g., EndDate), and complete binary and one-hot encoding for categorical features. Remove any irrelevant columns like customerID and features with no predictive power.\n",
    "\n",
    "**Result:**\n",
    "\n",
    "_The data cleaning proces was a success. These were the columns removed ['customerID','gender','BeginDate','EndDate','EndDateFilled','tenure_days','tenure_months']\n",
    "tenure was a great feature for EDA but we had to take it out because tenure coralated to much with churn causeing exstream data leakage making our data set not usable._\n",
    "\n",
    "**2. Feature Engineering:** \n",
    "\n",
    "Use existing columns to create meaningful features such as tenure, contract_length_months, and churn. Consider scaling numerical features if required by certain models.\n",
    "\n",
    "**Result:**\n",
    "\n",
    "_churn was the bigest feature that we needed to create otherwise we did not have a solid target.\n",
    "We did have to eliminate a lot of the date based columns because they caused to much data leakage.\n",
    "Our churn feature is durived from those columns. the model could see this and could cheat. making our model not reliable in the field. We did not need to scale any numarical features._\n",
    "\n",
    "**3. Train/Test Split and Class Balancing:** \n",
    "\n",
    "Split the data using a stratified approach to maintain class distribution. If imbalance persists, apply techniques like SMOTE, class weighting, or resampling to balance the churn classes.\n",
    "\n",
    "**Result:**\n",
    "_Our data splits whent well. I decided to upsample to fill out our Churn clients. This was necisary because our data had about (70% clients who stayed) and (30% clients that have left.) SMOTE was also an effective method but did not show any large improvments to the model. This was not used becasue of technical dificulties that could not be worked around in time to meat the deadline._\n",
    "\n",
    "\n",
    "**4. Model Training and Evaluation:** \n",
    "\n",
    "Train and compare classification models such as Decision Tree, Random Forest, XGBoost, LightGBM, and CatBoost. Posably use cross-validation and appropriate metrics such as:\n",
    "\n",
    "Precision - Tells you how many customers predicted to churn actually do. perfect for if you want to avoid wasting effort on customers who weren’t going to churn.\n",
    "\n",
    "Recall - Tells you how many actual churners were correctly predicted. perfect for when it is more important to catch every churner, even if it means more false positives.\n",
    "\n",
    "F1-score (recommended) - Balances precision and recall. great for when you want a happy middle of the two above options. This metric is also good when you have an imbalanced in our data. Our data is about a 70-30 split\n",
    "\n",
    "ROC-AUC (required) - Measures how well the model can separate churn vs not churn at different thresholds. This is especialy usfull because we are comparing several models.\n",
    "\n",
    "**Result:**\n",
    "\n",
    "_We succesfuly tested all models in the list above. catBoost stood out as the best model. The peramiter tuning was a success. We succesfully crosvalidated our data using StratifiedKFold. This maxamized the amount of data we could use to train our model. We used all the methods of mesurment above to validate our success. our recall and percistion were consistantly similar And our model was much better than random chance._\n",
    "\n",
    "Best parameters:\n",
    " {'random_strength': 9, 'learning_rate': 0.1, 'l2_leaf_reg': 9, 'iterations': 100, 'depth': 4, 'bootstrap_type': 'Bayesian', 'bagging_temperature': 2}\n",
    " \n",
    "**5. Interpretation and Recommendations:** Analyze feature importance and model outputs to identify key churn drivers. Prepare actionable insights and suggest business strategies to reduce churn based on the findings.\n",
    "\n",
    "**Result:**\n",
    "\n",
    "_We did analyze key features. the top 3 drivers for churn were total charges, monthly charges, and contract length in months(the last one is one of our engeneared features). This brout me to the conclution: Customers with higher monthly bills are more likely to churn, while those on longer contracts tend to stay longer. In particular, customers on month-to-month plans exhibit a higher risk of leaving. The main buisness stratagy that I came up with was: Encourage customers to sign longer-term contracts by promoting benefits such as discounted rates or exclusive perks, which can reduce churn risk._\n",
    "\n",
    "**Conclution**\n",
    "\n",
    "_The goal of this project was to build a machine learning model to predict customer churn for a telecom company, allowing proactive retention efforts through targeted promotions. After thorough data cleaning, we removed high-leakage features like tenure and engineered a reliable churn target. The dataset was imbalanced, so we applied upsampling to improve model performance. Several classifiers were tested, with CatBoost delivering the best results. After hyperparameter tuning and cross-validation, the final model achieved an ROC-AUC score of 0.8126, with balanced precision (0.66) and recall (0.55) on the minority class. Feature importance analysis revealed that higher monthly charges and short-term contracts are key churn drivers. Based on this, we recommend offering longer-term contracts with added benefits to reduce churn risk and improve customer retention._"
   ]
  },
  {
   "cell_type": "code",
   "execution_count": null,
   "metadata": {},
   "outputs": [],
   "source": []
  }
 ],
 "metadata": {
  "kernelspec": {
   "display_name": "Python 3 (ipykernel)",
   "language": "python",
   "name": "python3"
  },
  "language_info": {
   "codemirror_mode": {
    "name": "ipython",
    "version": 3
   },
   "file_extension": ".py",
   "mimetype": "text/x-python",
   "name": "python",
   "nbconvert_exporter": "python",
   "pygments_lexer": "ipython3",
   "version": "3.9.23"
  }
 },
 "nbformat": 4,
 "nbformat_minor": 4
}
